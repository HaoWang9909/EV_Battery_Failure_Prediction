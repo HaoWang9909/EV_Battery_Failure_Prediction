{
 "cells": [
  {
   "cell_type": "code",
   "execution_count": 1,
   "metadata": {},
   "outputs": [],
   "source": [
    "import pandas as pd\n",
    "import numpy as np\n",
    "import matplotlib.pyplot as plt\n",
    "import seaborn as sns\n",
    "import function as fc\n",
    "import scipy.stats as stats\n",
    "from datetime import datetime, timedelta\n",
    "plt.rcParams['font.sans-serif'] = ['SimHei']\n",
    "plt.rcParams['axes.unicode_minus'] = False"
   ]
  },
  {
   "cell_type": "markdown",
   "metadata": {},
   "source": [
    "## 定义参数"
   ]
  },
  {
   "cell_type": "code",
   "execution_count": 2,
   "metadata": {
    "tags": []
   },
   "outputs": [],
   "source": [
    "#参数\n",
    "#数据字段数\n",
    "num_fields = 32 \n",
    "#数据路径\n",
    "path = '/Users/wanghao/jupyter/data/2022_ncbdc/LB_33/part-00000-afa35c2b-1067-4ceb-842c-326597002142-c000.csv'\n",
    "# 车辆属性值\n",
    "attributes = ['vid', 'mode', 'sing_temp_num', 'sing_volt_num']"
   ]
  },
  {
   "cell_type": "markdown",
   "metadata": {},
   "source": [
    "# 导入数据"
   ]
  },
  {
   "cell_type": "code",
   "execution_count": 3,
   "metadata": {},
   "outputs": [
    {
     "name": "stdout",
     "output_type": "stream",
     "text": [
      "Data Shape: (661297, 32)\n",
      "Data Columns: Index(['vid', 'yr_modahrmn', 'speed', 'vehicle_state', 'charging_status',\n",
      "       'mode', 'total_volt', 'total_current', 'mileage', 'standard_soc',\n",
      "       'cell_volt_list', 'max_cell_volt', 'max_volt_cell_id', 'min_cell_volt',\n",
      "       'min_cell_volt_id', 'max_temp', 'max_temp_probe_id', 'min_temp',\n",
      "       'min_temp_probe_id', 'max_alarm_lvl', 'bat_fault_list', 'isulate_r',\n",
      "       'dcdc_stat', 'sing_temp_num', 'sing_volt_num', 'cell_temp_list', 'gear',\n",
      "       'max_volt_num', 'min_volt_num', 'max_temp_num', 'min_temp_num',\n",
      "       'alarm_info'],\n",
      "      dtype='object')\n",
      "数据字段齐全\n"
     ]
    }
   ],
   "source": [
    "#导入数据\n",
    "data = fc.import_and_check_data(path, num_fields)"
   ]
  },
  {
   "cell_type": "code",
   "execution_count": 4,
   "metadata": {},
   "outputs": [
    {
     "name": "stdout",
     "output_type": "stream",
     "text": [
      "{'vid': '9c5c812dee89404ca7099b2a913b530e', 'mode': 1, 'sing_temp_num': 34, 'sing_volt_num': 95}\n"
     ]
    }
   ],
   "source": [
    "attributes_results = fc.extract_vehicle_attributes(data, attributes)\n",
    "print(attributes_results)\n",
    "sing_temp_num = attributes_results['sing_temp_num']\n",
    "sing_volt_num = attributes_results['sing_volt_num']"
   ]
  },
  {
   "cell_type": "markdown",
   "metadata": {},
   "source": [
    "# 删除重复值"
   ]
  },
  {
   "cell_type": "code",
   "execution_count": 5,
   "metadata": {},
   "outputs": [
    {
     "name": "stdout",
     "output_type": "stream",
     "text": [
      "删除重复数据前： (661297, 32)\n",
      "删除重复的行数为： 3554\n",
      "删除重复数据后： (657743, 32)\n"
     ]
    }
   ],
   "source": [
    "data = fc.drop_duplicated(data)"
   ]
  },
  {
   "cell_type": "markdown",
   "metadata": {},
   "source": [
    "# 处理时间列"
   ]
  },
  {
   "cell_type": "code",
   "execution_count": 6,
   "metadata": {},
   "outputs": [
    {
     "name": "stdout",
     "output_type": "stream",
     "text": [
      "数据的总时间跨度为： 184 days 15:23:59\n",
      "最小采样间隔为： 0 days 00:00:10\n",
      "平均采样间隔为： 0 days 00:00:24.254250146\n",
      "最大采样间隔为： 5 days 08:36:41\n"
     ]
    }
   ],
   "source": [
    "data = fc.time_preprocessing(data,time_col='yr_modahrmn',format='%Y-%m-%d %H:%M:%S')"
   ]
  },
  {
   "cell_type": "code",
   "execution_count": 7,
   "metadata": {},
   "outputs": [
    {
     "data": {
      "text/plain": [
       "vid                       0\n",
       "speed                     0\n",
       "vehicle_state            35\n",
       "charging_status           0\n",
       "mode                      0\n",
       "total_volt                0\n",
       "total_current             0\n",
       "mileage                   0\n",
       "standard_soc              0\n",
       "cell_volt_list            0\n",
       "max_cell_volt             0\n",
       "max_volt_cell_id          0\n",
       "min_cell_volt             0\n",
       "min_cell_volt_id          0\n",
       "max_temp                  0\n",
       "max_temp_probe_id         0\n",
       "min_temp                  0\n",
       "min_temp_probe_id         0\n",
       "max_alarm_lvl             0\n",
       "bat_fault_list       657743\n",
       "isulate_r                 0\n",
       "dcdc_stat                 0\n",
       "sing_temp_num             0\n",
       "sing_volt_num             0\n",
       "cell_temp_list            0\n",
       "gear                      0\n",
       "max_volt_num              0\n",
       "min_volt_num              0\n",
       "max_temp_num              0\n",
       "min_temp_num              0\n",
       "alarm_info                0\n",
       "dtype: int64"
      ]
     },
     "execution_count": 7,
     "metadata": {},
     "output_type": "execute_result"
    }
   ],
   "source": [
    "#查看缺失值\n",
    "data.isnull().sum()"
   ]
  },
  {
   "cell_type": "markdown",
   "metadata": {},
   "source": [
    "# 故障查询"
   ]
  },
  {
   "cell_type": "code",
   "execution_count": 8,
   "metadata": {},
   "outputs": [
    {
     "data": {
      "text/plain": [
       "{'max_alarm_lvls': array([], dtype=int64),\n",
       " 'alarm_infos': array([], dtype=int64),\n",
       " 'alarm_messages': []}"
      ]
     },
     "execution_count": 8,
     "metadata": {},
     "output_type": "execute_result"
    }
   ],
   "source": [
    "fc.query_faults(data)"
   ]
  },
  {
   "cell_type": "markdown",
   "metadata": {},
   "source": []
  },
  {
   "cell_type": "markdown",
   "metadata": {},
   "source": [
    "# 充电片段划分"
   ]
  },
  {
   "cell_type": "code",
   "execution_count": 8,
   "metadata": {},
   "outputs": [],
   "source": [
    "chagring_segments = fc.identify_charging_segments(data)\n",
    "charging_details = fc.calculate_segment_details(data,chagring_segments)\n",
    "driving_segments = fc.identify_driving_segments(data)\n",
    "driving_details = fc.calculate_segment_details(data,driving_segments)"
   ]
  },
  {
   "cell_type": "code",
   "execution_count": 9,
   "metadata": {},
   "outputs": [
    {
     "data": {
      "text/plain": [
       "<matplotlib.collections.PathCollection at 0x7fe84fd73e80>"
      ]
     },
     "execution_count": 9,
     "metadata": {},
     "output_type": "execute_result"
    },
    {
     "data": {
      "image/png": "[encoded data removed]",
      "text/plain": [
       "<Figure size 640x480 with 1 Axes>"
      ]
     },
     "metadata": {},
     "output_type": "display_data"
    }
   ],
   "source": [
    "#以duration为横坐标，soc_change为纵坐标，画出散点图\n",
    "plt.scatter(charging_details['duration'],charging_details['soc_change'])\n",
    "plt.scatter(driving_details['duration'],driving_details['soc_change'])"
   ]
  },
  {
   "cell_type": "code",
   "execution_count": 10,
   "metadata": {},
   "outputs": [
    {
     "data": {
      "image/png": "[encoded data removed]",
      "text/plain": [
       "<Figure size 1200x400 with 4 Axes>"
      ]
     },
     "metadata": {},
     "output_type": "display_data"
    }
   ],
   "source": [
    "# 创建一个包含两个子图的图表\n",
    "plt.figure(figsize=(12, 4))\n",
    "# 第一个子图：充电数据的六边形蜂窝图\n",
    "plt.subplot(1, 2, 1)\n",
    "hb_charging = plt.hexbin(charging_details['duration'], charging_details['soc_change'], gridsize=30, cmap='summer')\n",
    "plt.title('Charging: Hexbin Plot of Duration vs. SOC Change')\n",
    "plt.xlabel('Duration')\n",
    "plt.ylabel('SOC Change')\n",
    "plt.colorbar(hb_charging, label='Counts')\n",
    "\n",
    "# 第二个子图：驾驶数据的六边形蜂窝图\n",
    "plt.subplot(1, 2, 2)\n",
    "hb_driving = plt.hexbin(driving_details['duration'], driving_details['soc_change'], gridsize=30,cmap='summer')\n",
    "plt.title('Driving: Hexbin Plot of Duration vs. SOC Change')\n",
    "plt.xlabel('Duration')\n",
    "plt.ylabel('SOC Change')\n",
    "plt.colorbar(hb_driving, label='Counts')\n",
    "\n",
    "# 调整子图布局，避免重叠\n",
    "plt.tight_layout()\n",
    "plt.show()"
   ]
  },
  {
   "cell_type": "markdown",
   "metadata": {},
   "source": [
    "# 处理单体电池电压温度数据"
   ]
  },
  {
   "cell_type": "code",
   "execution_count": 11,
   "metadata": {},
   "outputs": [],
   "source": [
    "# 使用apply函数处理整个列\n",
    "data['cell_volt_list'] = data['cell_volt_list'].apply(fc.process_string)\n",
    "data['cell_temp_list'] = data['cell_temp_list'].apply(fc.process_string)\n",
    "# 使用expand_columns函数展开列\n",
    "data=fc.expand_columns(data)"
   ]
  },
  {
   "cell_type": "markdown",
   "metadata": {},
   "source": [
    "# 提取片段"
   ]
  },
  {
   "cell_type": "code",
   "execution_count": 12,
   "metadata": {},
   "outputs": [],
   "source": [
    "def extract_segments_with_id(data, segments, column_name):\n",
    "    segment_data_list = []\n",
    "    for idx, (start, end) in enumerate(segments, 1):\n",
    "        segment_data = data[(data.index >= start) & (data.index <= end)].copy()\n",
    "        segment_data[column_name] = idx\n",
    "        segment_data_list.append(segment_data)\n",
    "    return segment_data_list\n",
    "\n",
    "# Assuming you have defined and executed the get_charging_segments and get_driving_segments functions\n",
    "\n",
    "charging_data_segments_with_id = extract_segments_with_id(data, chagring_segments, 'charging_segment_id')\n",
    "driving_data_segments_with_id = extract_segments_with_id(data, driving_segments, 'driving_segment_id')"
   ]
  },
  {
   "cell_type": "code",
   "execution_count": 13,
   "metadata": {},
   "outputs": [],
   "source": [
    "def concatenate_segments(segments_list):\n",
    "    return pd.concat(segments_list)\n",
    "\n",
    "charging_total_data_with_id = concatenate_segments(charging_data_segments_with_id)\n",
    "driving_total_data_with_id = concatenate_segments(driving_data_segments_with_id)"
   ]
  },
  {
   "cell_type": "code",
   "execution_count": 14,
   "metadata": {},
   "outputs": [
    {
     "data": {
      "text/html": [
       "<div>\n",
       "<style scoped>\n",
       "    .dataframe tbody tr th:only-of-type {\n",
       "        vertical-align: middle;\n",
       "    }\n",
       "\n",
       "    .dataframe tbody tr th {\n",
       "        vertical-align: top;\n",
       "    }\n",
       "\n",
       "    .dataframe thead th {\n",
       "        text-align: right;\n",
       "    }\n",
       "</style>\n",
       "<table border=\"1\" class=\"dataframe\">\n",
       "  <thead>\n",
       "    <tr style=\"text-align: right;\">\n",
       "      <th></th>\n",
       "      <th>vid</th>\n",
       "      <th>speed</th>\n",
       "      <th>vehicle_state</th>\n",
       "      <th>charging_status</th>\n",
       "      <th>mode</th>\n",
       "      <th>total_volt</th>\n",
       "      <th>total_current</th>\n",
       "      <th>mileage</th>\n",
       "      <th>standard_soc</th>\n",
       "      <th>cell_volt_list</th>\n",
       "      <th>...</th>\n",
       "      <th>cell_temp_25</th>\n",
       "      <th>cell_temp_26</th>\n",
       "      <th>cell_temp_27</th>\n",
       "      <th>cell_temp_28</th>\n",
       "      <th>cell_temp_29</th>\n",
       "      <th>cell_temp_30</th>\n",
       "      <th>cell_temp_31</th>\n",
       "      <th>cell_temp_32</th>\n",
       "      <th>cell_temp_33</th>\n",
       "      <th>charging_segment_id</th>\n",
       "    </tr>\n",
       "    <tr>\n",
       "      <th>time</th>\n",
       "      <th></th>\n",
       "      <th></th>\n",
       "      <th></th>\n",
       "      <th></th>\n",
       "      <th></th>\n",
       "      <th></th>\n",
       "      <th></th>\n",
       "      <th></th>\n",
       "      <th></th>\n",
       "      <th></th>\n",
       "      <th></th>\n",
       "      <th></th>\n",
       "      <th></th>\n",
       "      <th></th>\n",
       "      <th></th>\n",
       "      <th></th>\n",
       "      <th></th>\n",
       "      <th></th>\n",
       "      <th></th>\n",
       "      <th></th>\n",
       "      <th></th>\n",
       "    </tr>\n",
       "  </thead>\n",
       "  <tbody>\n",
       "  </tbody>\n",
       "</table>\n",
       "<p>0 rows × 161 columns</p>\n",
       "</div>"
      ],
      "text/plain": [
       "Empty DataFrame\n",
       "Columns: [vid, speed, vehicle_state, charging_status, mode, total_volt, total_current, mileage, standard_soc, cell_volt_list, max_cell_volt, max_volt_cell_id, min_cell_volt, min_cell_volt_id, max_temp, max_temp_probe_id, min_temp, min_temp_probe_id, max_alarm_lvl, bat_fault_list, isulate_r, dcdc_stat, sing_temp_num, sing_volt_num, cell_temp_list, gear, max_volt_num, min_volt_num, max_temp_num, min_temp_num, alarm_info, cell_volt_0, cell_volt_1, cell_volt_2, cell_volt_3, cell_volt_4, cell_volt_5, cell_volt_6, cell_volt_7, cell_volt_8, cell_volt_9, cell_volt_10, cell_volt_11, cell_volt_12, cell_volt_13, cell_volt_14, cell_volt_15, cell_volt_16, cell_volt_17, cell_volt_18, cell_volt_19, cell_volt_20, cell_volt_21, cell_volt_22, cell_volt_23, cell_volt_24, cell_volt_25, cell_volt_26, cell_volt_27, cell_volt_28, cell_volt_29, cell_volt_30, cell_volt_31, cell_volt_32, cell_volt_33, cell_volt_34, cell_volt_35, cell_volt_36, cell_volt_37, cell_volt_38, cell_volt_39, cell_volt_40, cell_volt_41, cell_volt_42, cell_volt_43, cell_volt_44, cell_volt_45, cell_volt_46, cell_volt_47, cell_volt_48, cell_volt_49, cell_volt_50, cell_volt_51, cell_volt_52, cell_volt_53, cell_volt_54, cell_volt_55, cell_volt_56, cell_volt_57, cell_volt_58, cell_volt_59, cell_volt_60, cell_volt_61, cell_volt_62, cell_volt_63, cell_volt_64, cell_volt_65, cell_volt_66, cell_volt_67, cell_volt_68, ...]\n",
       "Index: []\n",
       "\n",
       "[0 rows x 161 columns]"
      ]
     },
     "execution_count": 14,
     "metadata": {},
     "output_type": "execute_result"
    }
   ],
   "source": [
    "#找到charging_total_data_with_id中'max_alarm_lvl'不为0的数据\n",
    "charging_total_data_with_id[charging_total_data_with_id['max_alarm_lvl']!=0]"
   ]
  },
  {
   "cell_type": "code",
   "execution_count": 16,
   "metadata": {},
   "outputs": [
    {
     "data": {
      "text/plain": [
       "Series([], Name: alarm_info, dtype: int64)"
      ]
     },
     "execution_count": 16,
     "metadata": {},
     "output_type": "execute_result"
    }
   ],
   "source": [
    "#找到driving_total_data_with_id中'max_alarm_lvl'不为0的数据\n",
    "driving_total_data_with_id[driving_total_data_with_id['max_alarm_lvl']!=0]['alarm_info']"
   ]
  },
  {
   "cell_type": "code",
   "execution_count": null,
   "metadata": {},
   "outputs": [
    {
     "data": {
      "text/plain": [
       "['DC-DC状态报警']"
      ]
     },
     "metadata": {},
     "output_type": "display_data"
    }
   ],
   "source": [
    "# Example usage:\n",
    "fc.alarm_type(16384)  # This should check for all alarms from bit 0 to bit 9 (binary: 1111111111)"
   ]
  },
  {
   "cell_type": "code",
   "execution_count": 15,
   "metadata": {},
   "outputs": [],
   "source": [
    "# # 遍历每一个cell_volt并绘制图像\n",
    "# for driving_segment_id in range(1,20):#len(driving_segments) + 1\n",
    "#     plt.figure(figsize=(20, 8))\n",
    "#     for cell_volt_idx in range(sing_volt_num):\n",
    "#         col_name = f'cell_volt_{cell_volt_idx}'\n",
    "#         selected_data = driving_total_data_with_id[driving_total_data_with_id['driving_segment_id'] == driving_segment_id]\n",
    "#         #plt.plot(selected_data[col_name], label=col_name)\n",
    "#         #plt.plot(selected_data[\"max_alarm_lvl\"] * 200 + 3400)\n",
    "#         plt.plot(selected_data[\"mileage\"])\n",
    "    \n",
    "#     plt.title(f'Driving Segment {driving_segment_id} - Cell Voltages')\n",
    "#     plt.xlabel('Time')\n",
    "#     plt.ylabel('Voltage')\n",
    "#     #plt.legend()\n",
    "#     plt.grid()\n",
    "#     plt.show()\n"
   ]
  },
  {
   "cell_type": "code",
   "execution_count": 16,
   "metadata": {},
   "outputs": [],
   "source": [
    "# # 遍历每一个cell_volt并绘制图像\n",
    "# for charging_segment_id in range(1, len(chagring_segments)+1):  #未来修改为len(chagring_segments)+1\n",
    "#     plt.figure(figsize=(20, 8))\n",
    "#     for cell_volt_idx in range(sing_temp_num):\n",
    "#         col_name = f'cell_temp_{cell_volt_idx}'\n",
    "#         selected_data = charging_total_data_with_id[charging_total_data_with_id['charging_segment_id'] == charging_segment_id]\n",
    "#         plt.plot(selected_data[col_name], label=col_name)\n",
    "#         #plt.plot(selected_data[\"max_alarm_lvl\"]*200+3400)\n",
    "    \n",
    "#     plt.title(f'Charging Segment {charging_segment_id} - Cell Voltages')\n",
    "#     plt.xlabel('Time')\n",
    "#     plt.ylabel('Voltage')\n",
    "#     #plt.legend()\n",
    "#     plt.grid()\n",
    "#     plt.show()\n"
   ]
  },
  {
   "cell_type": "code",
   "execution_count": 17,
   "metadata": {},
   "outputs": [],
   "source": [
    "# data.to_csv('/Users/wanghao/jupyter/data/2022_ncbdc/LB_24/预处理后数据/2022_ncbdc_LB_04_预处理后数据.csv')\n",
    "# charging_total_data.to_csv('/Users/wanghao/jupyter/data/2022_ncbdc/LB_24/预处理后数据/2022_ncbdc_LB_04_充电片段数据.csv')\n",
    "# driving_total_data.to_csv('/Users/wanghao/jupyter/data/2022_ncbdc/LB_24/预处理后数据/2022_ncbdc_LB_04_行驶片段数据.csv')"
   ]
  },
  {
   "cell_type": "code",
   "execution_count": 18,
   "metadata": {},
   "outputs": [],
   "source": [
    "# data_demo = data[0:10000]\n",
    "# data_demo.to_csv('/Users/wanghao/jupyter/data/2022_ncbdc/LB_04/预处理后数据/demo_2022_ncbdc_LB_04_预处理后数据.csv')\n",
    "# charging_total_data_demo = charging_total_data[0:10000]\n",
    "# charging_total_data_demo.to_csv('/Users/wanghao/jupyter/data/2022_ncbdc/LB_04/预处理后数据/demo_2022_ncbdc_LB_04_充电总数据.csv')\n",
    "# driving_total_data_demo = driving_total_data[0:10000]\n",
    "# driving_total_data_demo.to_csv('/Users/wanghao/jupyter/data/2022_ncbdc/LB_04/预处理后数据/demo_2022_ncbdc_LB_04_行驶总数据.csv')\n"
   ]
  },
  {
   "cell_type": "markdown",
   "metadata": {},
   "source": [
    "# 实验区"
   ]
  },
  {
   "cell_type": "code",
   "execution_count": 19,
   "metadata": {},
   "outputs": [],
   "source": [
    "# data['cell_volt_discrepancy_std'] = data['cell_volt_list'].apply(lambda x: pd.Series(x).std())"
   ]
  },
  {
   "cell_type": "code",
   "execution_count": 20,
   "metadata": {},
   "outputs": [],
   "source": [
    "# def entropy_of_list(values):\n",
    "#     \"\"\"计算列表的熵，忽略空值\"\"\"\n",
    "#     # 忽略None和NaN\n",
    "#     values = [value for value in values if value is not None and not np.isnan(value)]\n",
    "#     _, counts = np.unique(values, return_counts=True)\n",
    "#     probabilities = counts / len(values)\n",
    "#     entropy = -np.sum(probabilities * np.log2(probabilities))\n",
    "#     return entropy\n",
    "\n",
    "# data['cell_volt_discrepancy_entropy'] = data['cell_volt_list'].apply(entropy_of_list)"
   ]
  },
  {
   "cell_type": "code",
   "execution_count": 21,
   "metadata": {},
   "outputs": [],
   "source": [
    "# test_start_time = '2020-04-28 13:00:00'\n",
    "# test_end_time = '2020-04-28 16:00:00'\n",
    "# columns_to_plot = [\"standard_soc\",\"vehicle_state\", \"charging_status\", \"speed\", \"mileage\", \n",
    "#                    ]\n",
    "# fc.plot_selected_columns(data, test_start_time, test_end_time, columns_to_plot)"
   ]
  },
  {
   "cell_type": "code",
   "execution_count": 22,
   "metadata": {},
   "outputs": [],
   "source": [
    "# test_start_time = '2020-10-27 00:00:00'\n",
    "# test_end_time = '2020-10-28 12:00:00'\n",
    "# columns_to_plot = [\"standard_soc\", \"charging_status\", \"speed\", \"max_alarm_lvl\", \n",
    "#                    \"total_volt\", \"total_current\", \"max_cell_volt\", \"max_temp\",'cell_volt_discrepancy_std','cell_volt_discrepancy_entropy']\n",
    "# fc.plot_selected_columns(data, test_start_time, test_end_time, columns_to_plot)"
   ]
  },
  {
   "cell_type": "code",
   "execution_count": 23,
   "metadata": {},
   "outputs": [],
   "source": [
    "# # 选择需要检验的列\n",
    "# volt_columns = [f'cell_volt_{i}' for i in range(10)]\n",
    "\n",
    "# # 选择需要检查的数据\n",
    "# checking_normality_data = charging_total_data\n",
    "\n",
    "\n",
    "# for column in volt_columns:\n",
    "#     print(f\"Testing {column} for normality\")\n",
    "    \n",
    "#     # 直方图\n",
    "#     plt.hist(checking_normality_data[column].dropna(), bins=30, density=True, alpha=0.6, color='g')\n",
    "    \n",
    "#     # 拟合参数\n",
    "#     mu, std = stats.norm.fit(checking_normality_data[column].dropna())\n",
    "    \n",
    "#     # 画出相应的正态分布曲线\n",
    "#     xmin, xmax = plt.xlim()\n",
    "#     x = np.linspace(xmin, xmax, 100)\n",
    "#     p = stats.norm.pdf(x, mu, std)\n",
    "#     plt.plot(x, p, 'k', linewidth=2)\n",
    "    \n",
    "#     plt.title(f\"Fit results: mu = {mu:.2f},  std = {std:.2f}\")\n",
    "#     plt.show()\n",
    "    \n",
    "#     # QQ图\n",
    "#     stats.probplot(checking_normality_data[column].dropna(), plot=plt)\n",
    "#     plt.title(f\"QQ plot for {column}\")\n",
    "#     plt.show()\n",
    "    \n",
    "#     # 进行Kolmogorov-Smirnov检验\n",
    "#     print(f\"Testing {column} for normality using Kolmogorov-Smirnov test\")\n",
    "\n",
    "#     # 删除空值\n",
    "#     col_data = checking_normality_data[column].dropna()\n",
    "\n",
    "#     # 计算平均值和标准差\n",
    "#     mu, std = np.mean(col_data), np.std(col_data)\n",
    "\n",
    "#     # 进行Kolmogorov-Smirnov检验\n",
    "#     ks_test = stats.kstest(col_data, 'norm', args=(mu, std))\n",
    "\n",
    "#     print(f\"Kolmogorov-Smirnov test for {column}: statistic={ks_test.statistic:.4f}, p-value={ks_test.pvalue:.4f}\\n\")\n",
    "    \n"
   ]
  },
  {
   "cell_type": "code",
   "execution_count": 24,
   "metadata": {},
   "outputs": [],
   "source": [
    "\n",
    "\n",
    "# # Define features of interest for exploration\n",
    "# features_to_explore = ['speed', 'total_current', 'standard_soc', 'max_cell_volt', 'min_cell_volt', 'max_temp', 'min_temp', 'alarm_info']\n",
    "\n",
    "# # Plot histograms for each feature\n",
    "# plt.figure(figsize=(15, 20))\n",
    "# for idx, feature in enumerate(features_to_explore, 1):\n",
    "#     plt.subplot(len(features_to_explore), 1, idx)\n",
    "#     sns.histplot(data[feature], bins=50, kde=True)\n",
    "#     plt.title(f'Distribution of {feature}')\n",
    "#     plt.xlabel('')\n",
    "#     plt.tight_layout()\n",
    "\n",
    "# plt.show()\n"
   ]
  },
  {
   "cell_type": "code",
   "execution_count": 25,
   "metadata": {},
   "outputs": [],
   "source": [
    "# # Plotting time series of the features to observe trends and anomalies\n",
    "# plt.figure(figsize=(15, 20))\n",
    "# for idx, feature in enumerate(features_to_explore, 1):\n",
    "#     plt.subplot(len(features_to_explore), 1, idx)\n",
    "#     plt.plot(data[feature])\n",
    "#     plt.title(f'Time Series of {feature}')\n",
    "#     plt.xlabel('Time')\n",
    "#     plt.ylabel(feature)\n",
    "#     plt.tight_layout()\n",
    "\n",
    "# plt.show()"
   ]
  },
  {
   "cell_type": "code",
   "execution_count": 26,
   "metadata": {},
   "outputs": [],
   "source": [
    "# fc.analyze_column(data, 'max_alarm_lvl',0,3)"
   ]
  },
  {
   "cell_type": "code",
   "execution_count": 27,
   "metadata": {},
   "outputs": [],
   "source": [
    "# fc.analyze_column(data, 'alarm_info')"
   ]
  },
  {
   "cell_type": "code",
   "execution_count": 28,
   "metadata": {},
   "outputs": [],
   "source": [
    "# data['alarm_info'].unique()"
   ]
  },
  {
   "cell_type": "code",
   "execution_count": 29,
   "metadata": {},
   "outputs": [],
   "source": [
    "# # 查看'alarm_info'不为0时候，'max_alarm_lvl'为3的数据\n",
    "# data[(data['alarm_info'] != 0) & (data['max_alarm_lvl'] == 3)]"
   ]
  },
  {
   "cell_type": "code",
   "execution_count": 30,
   "metadata": {},
   "outputs": [],
   "source": [
    "# data['alarm_decoded'] = data['alarm_info'].apply(fc.decode_alarm)"
   ]
  },
  {
   "cell_type": "code",
   "execution_count": 31,
   "metadata": {},
   "outputs": [],
   "source": [
    "# # 将列表转换为字符串以便查找唯一值\n",
    "# data['alarm_decoded_str'] = data['alarm_decoded'].apply(lambda x: ', '.join(x))\n",
    "\n",
    "# # 获取该列的所有唯一值\n",
    "# unique_values = data[data['max_alarm_lvl'] == 3]['alarm_decoded_str'].unique()\n",
    "\n",
    "# # 打印唯一值\n",
    "# for value in unique_values:\n",
    "#     print(value)\n"
   ]
  }
 ],
 "metadata": {
  "kernelspec": {
   "display_name": "yy",
   "language": "python",
   "name": "python3"
  },
  "language_info": {
   "codemirror_mode": {
    "name": "ipython",
    "version": 3
   },
   "file_extension": ".py",
   "mimetype": "text/x-python",
   "name": "python",
   "nbconvert_exporter": "python",
   "pygments_lexer": "ipython3",
   "version": "3.9.17"
  },
  "orig_nbformat": 4
 },
 "nbformat": 4,
 "nbformat_minor": 2
}
