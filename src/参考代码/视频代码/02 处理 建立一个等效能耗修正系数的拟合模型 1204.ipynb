{
 "cells": [
  {
   "cell_type": "markdown",
   "id": "6757d92a",
   "metadata": {},
   "source": [
    "等效能耗修正系数的拟合模型\n",
    "作用是将上一个片段的累积平均能耗，进行局部修正，达到一个稍微变化的等效能耗\n",
    "思路是 以真实RDR和计算RDR误差为最小化目标，以一个片段（1km）速度均值、速度方差、功率均值、功率方差等为输入，以神经网络为模型，得到一个修正系数计算模型"
   ]
  },
  {
   "cell_type": "markdown",
   "id": "ef315696",
   "metadata": {},
   "source": [
    "后面用这个系数模型修正平均能耗，得到等效能耗"
   ]
  },
  {
   "cell_type": "markdown",
   "id": "41472fd4",
   "metadata": {},
   "source": [
    "每次应用的时候,拿RDE除以等效能耗"
   ]
  }
 ],
 "metadata": {
  "kernelspec": {
   "display_name": "Python [conda env:root] *",
   "language": "python",
   "name": "conda-root-py"
  },
  "language_info": {
   "codemirror_mode": {
    "name": "ipython",
    "version": 3
   },
   "file_extension": ".py",
   "mimetype": "text/x-python",
   "name": "python",
   "nbconvert_exporter": "python",
   "pygments_lexer": "ipython3",
   "version": "3.8.8"
  },
  "toc": {
   "base_numbering": 1,
   "nav_menu": {},
   "number_sections": true,
   "sideBar": true,
   "skip_h1_title": false,
   "title_cell": "Table of Contents",
   "title_sidebar": "Contents",
   "toc_cell": false,
   "toc_position": {},
   "toc_section_display": true,
   "toc_window_display": false
  }
 },
 "nbformat": 4,
 "nbformat_minor": 5
}
