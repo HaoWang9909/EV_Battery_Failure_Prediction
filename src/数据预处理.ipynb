{
 "cells": [
  {
   "cell_type": "markdown",
   "metadata": {},
   "source": [
    "导入库与函数"
   ]
  },
  {
   "cell_type": "code",
   "execution_count": null,
   "metadata": {},
   "outputs": [],
   "source": [
    "import pandas as pd\n",
    "import numpy as np\n",
    "import matplotlib.pyplot as plt\n",
    "import datetime\n",
    "import seaborn as sns\n",
    "import geopandas as gpd\n",
    "\n",
    "plt.rcParams['font.sans-serif'] = ['SimHei']\n",
    "plt.rcParams['axes.unicode_minus'] = False"
   ]
  },
  {
   "cell_type": "code",
   "execution_count": null,
   "metadata": {},
   "outputs": [],
   "source": [
    "#导入数据并检查字段是否齐全\n",
    "def import_and_check_data(path, num_fields):\n",
    "    \"\"\"\n",
    "    导入数据并检查字段是否齐全\n",
    "    :param path: 数据路径\n",
    "    :param num_fields: 数据字段数量\n",
    "    :return data: DataFrame\n",
    "    \"\"\"\n",
    "    data = pd.read_csv(path, low_memory=False)\n",
    "    print(\"Data Shape:\", data.shape)\n",
    "    print(\"Data Columns:\", data.columns)\n",
    "    \n",
    "    if len(data.columns) == num_fields:\n",
    "        print(\"数据字段齐全\")\n",
    "    else:\n",
    "        print(\"数据字段缺失\")\n",
    "    \n",
    "    return data\n",
    "\n",
    "#定义一个查看车辆属性的函数\n",
    "def extract_vehicle_attributes(data: pd.DataFrame, attributes: list):\n",
    "    \"\"\"\n",
    "    查看车辆属性\n",
    "    :param data: DataFrame\n",
    "    :param attributes: 车辆属性列表\n",
    "    :return results: 车辆属性字典\n",
    "    \"\"\"\n",
    "    \n",
    "    results = {}\n",
    "    for attribute in attributes:\n",
    "        if attribute in data.columns:\n",
    "            unique_values = data[attribute].unique()\n",
    "            if len(unique_values) > 1:\n",
    "                print(f\"Attribute {attribute} is not unique.\")\n",
    "            elif pd.isnull(unique_values[0]):\n",
    "                print(f\"Attribute {attribute} is missing.\")\n",
    "            else:\n",
    "                results[attribute] = unique_values[0]\n",
    "        else:\n",
    "            print(f\"Attribute {attribute} does not exist in the data.\")\n",
    "    return results\n",
    "\n",
    "#定义一个批量删除列的函数\n",
    "def drop_columns(data: pd.DataFrame, columns_to_drop: list):\n",
    "    data = data.drop(columns=columns_to_drop, errors='ignore')\n",
    "    print(\"已删除列名为 {} 的列\".format(columns_to_drop))\n",
    "    return data\n",
    "\n",
    "\n",
    "# 定义一个删除内部数据值完全相同的列的函数\n",
    "def remove_duplicate_columns(data):\n",
    "    \"\"\"\n",
    "    删除内部数据值完全相同的列\n",
    "    :param data: DataFrame\n",
    "    :return cleaned_data, result_df\n",
    "    \"\"\"\n",
    "\n",
    "    same_col = []\n",
    "    same_col_dict = []\n",
    "\n",
    "    for col in data.columns:\n",
    "        if len(data[col].unique()) == 1:\n",
    "            same_col.append(col)\n",
    "            same_col_dict.append(data[col].unique())\n",
    "        else:\n",
    "            pass\n",
    "    \n",
    "    cleaned_data = data.drop(same_col, axis=1)\n",
    "\n",
    "    result_df = pd.DataFrame({'same_col': same_col, 'same_col_dict': same_col_dict})\n",
    "    return cleaned_data, result_df\n",
    "\n",
    "#定义一个删除重复数据的函数\n",
    "def drop_duplicated(data):\n",
    "    print('删除重复数据前：',data.shape)\n",
    "    print('删除重复的行数为：',data.duplicated().sum())\n",
    "    data.drop_duplicates(inplace=True)\n",
    "    print('删除重复数据后：',data.shape)\n",
    "    return data\n",
    "\n",
    "#编写一个预处理时间的函数\n",
    "def time_preprocessing(df,time_col='yr_modahrmn',format='%Y-%m-%d %H:%M:%S'):\n",
    "    '''\n",
    "    df:需要处理的数据集\n",
    "    time_col:时间列的列名\n",
    "    format:时间格式\n",
    "    return:处理好的数据集\n",
    "    '''\n",
    "    df['time'] = pd.to_datetime(df[time_col],format = format)\n",
    "    #删除原来的时间列\n",
    "    df.drop(time_col,axis=1,inplace=True)\n",
    "    #将时间列设置为索引\n",
    "    df.set_index('time',inplace=True)\n",
    "    #按照时间排序\n",
    "    df.sort_index(inplace=True)\n",
    "    return df\n",
    "\n",
    "#编写一个分析特征的函数\n",
    "def analyze_column(data, column_name,lower_bound = None,upper_bound = None,ratio = None):\n",
    "    \"\"\"\n",
    "    分析特征\n",
    "    :param data: DataFrame\n",
    "    :param column_name: 特征名称\n",
    "    :param upper_bound: 特征的上界\n",
    "    :param lower_bound: 特征的下界\n",
    "    :param ratio: 特征放缩比例\n",
    "    :return:\n",
    "    \"\"\"\n",
    "    # 查看列的数据类型\n",
    "    print(f\"数据类型为 {data[column_name].dtype}\")\n",
    "    \n",
    "\n",
    "    # 如果数据类型为数字，查看列的统计信息\n",
    "    if data[column_name].dtype in ['int64', 'float64', 'float32', 'int32']:\n",
    "        print('-' * 50)\n",
    "        print(data[column_name].describe())\n",
    "        print('-' * 50)\n",
    "        # 画出列的直方图\n",
    "        data[column_name].hist(bins=50)\n",
    "        plt.xlabel(column_name)\n",
    "        plt.ylabel('Frequency')\n",
    "        plt.title(f'Distribution of {column_name}')\n",
    "        plt.show()\n",
    "        print('-' * 50)\n",
    "        # 画出列随时间的变化图\n",
    "        plt.figure(figsize=(40,5))\n",
    "        plt.plot(data.index, data[column_name])\n",
    "        plt.xlabel('Time')\n",
    "        plt.ylabel(column_name)\n",
    "        plt.title(f'{column_name} over Time')\n",
    "        plt.show()\n",
    "\n",
    "    # 分析缺失值占比\n",
    "    missing_number = data[column_name].isnull().sum()\n",
    "    missing_ratio = missing_number / len(data) * 100\n",
    "\n",
    "    #打印分割线\n",
    "    print('-' * 50)\n",
    "    print(f\"'{column_name}' 有 {missing_number} 个缺失值\")\n",
    "    print(f\"'{column_name}' 的缺失值占比为 {missing_ratio:.2f}%\")\n",
    "\n",
    "    # 查看列是否在有效值范围\n",
    "    if upper_bound is not None and lower_bound is not None:\n",
    "            #打印分割线\n",
    "        print('-' * 50)\n",
    "        print(f\"有效值范围为 [{lower_bound}, {upper_bound}]\")\n",
    "        invalid_values = data[(data[column_name] < lower_bound) | (data[column_name] > upper_bound)]\n",
    "        print(f\"'{column_name}' 共有 {len(invalid_values)} 个范围外值\")\n",
    "    \n",
    "    # 是否需要放缩\n",
    "    if ratio is not None:\n",
    "        print('-' * 50)\n",
    "        print(f\"需要放缩，放缩比例为 {ratio}\")\n",
    "        data[column_name] = data[column_name].astype('float64')\n",
    "        data[column_name] = data[column_name] * ratio\n",
    "        print(f\"列放缩完毕，数据类型为 {data[column_name].dtype}\")\n",
    "    "
   ]
  },
  {
   "cell_type": "markdown",
   "metadata": {},
   "source": [
    "字段信息\n",
    "| 数据字段名称      | 字段定义         | 字段数据值           |\n",
    "|-----------------|----------------|--------------------|\n",
    "| vid             | 车辆ID          | XX_xxx             |\n",
    "| yr_modahrmn     | 数据采集时间      | yymmdd-hhmmss      |\n",
    "| vehicle_state   | 车辆状态         | 0x01：车辆启动状态；0x02：熄火；0x03：其他状态；“0xFE”表示异常；“0xFF”表示无效 |\n",
    "| charging_status | 充电状态         | 0x01：停车充电；0x02：行驶充电；0x03：未充电状态；0x04：充电完成；“0xFE”表示异常；“0xFF”表示无效 |\n",
    "| mode            | 运行模式         | 0x01: 纯电； 0x02：混动； 0x03：燃油； 0xFE 表示异常； 0xFF 表示无效 |\n",
    "| speed           | 车速            | 有效值范围：0～2200（表示 0 km/h～220 km/h），最小计量单元：0.1km/h，“0xFF,0xFE”表示异常，“0xFF,0xFF”表示无效 |\n",
    "| gear            | 挡位            | 挡位定义见表 A.1    |\n",
    "| total_volt      | 总电压           | 有效值范围：0～10000（表示 0V～1000V），最小计量单元：0.1V，“0xFF,0xFE”表示异常，“0xFF,0xFF”表示无效 |\n",
    "| total_current   | 总电流           | 有效值范围：0～20000（偏移量 1000A，表示-1000A～+1000A），最小计量单元：0.1A，“0xFF,0xFE”表示异常，“0xFF,0xFF”表示无效 |\n",
    "| mileage         | 累计里程          | 有效值范围：0～9999999（表示 0km～999999.9km），最小计量单元：0.1km。“0xFF, 0xFF, 0xFF,0xFE”表示异常，“0xFF,0xFF,0xFF,0xFF”表示无效 |\n",
    "| standard_soc    | SOC-国标         | 有效值范围：0～100（表示 0%～100%），最小计量单元：1%，“0xFE”表示异常，“0xFF”表示无效 |\n",
    "| cell_volt_list  | 单体电池电压值列表  | 有效值：0~15000，单位0.001V |\n",
    "| max_volt_num    | 最高电压电池子系统号 | 有效值范围：1～250，“0xFE”表示异常，“0xFF”表示无效 |\n",
    "| max_cell_volt   | 电池单体电压最高值  | 有效值范围：0～15 000（表示 0V～15V），最小计量单元：0.001V，“0xFE，0xFE”表示异常，“0xFF ，0xFF”表示无效 |\n",
    "| max_volt_cell_id | 最高电压电池       | 有效值范围： 1～250，“0xFE”表示异常，“0xFF”表示无效。 |\n",
    "| min_volt_num    | 最低电压电池子系统号 | 有效值范围：1～250，“0xFE”表示异常，“0xFF”表示无效 |\n",
    "| min_cell_volt   | 电池单体电压最低值  | 有效值范围：0～15 000（表示 0V～15V），最小计量单元：0.001V，“0xFF，0xFE”表示异常，“0xFF ，0xFF”表示无效 |\n",
    "| min_cell_volt_id | 最低电压电池       | 有效值范围： 1～250，“0xFE”表示异常，“0xFF”表示无效。 |\n",
    "| max_temp_num    | 最高温度子系统号    | 有效值范围：1～250，“0xFE”表示异常，“0xFF”表示无效 |\n",
    "| max_temp        | 最高温度值         | 有效值范围：0～250（数值偏移量40℃，表示-40℃～210℃），最小计量单元：1℃，“0xFE”表示异常，“0xFF”表示无效 |\n",
    "| max_temp_probe_id | 最高温度探针      | 有效值范围： 1～250，“0xFE”表示异常，“0xFF”表示无效。 |\n",
    "| min_temp_num    | 最低温度子系统号    | 有效值范围：1～250，“0xFE”表示异常，“0xFF”表示无效 |\n",
    "| min_temp        | 最低温度值         | 有效值范围：0～250（数值偏移量40℃，表示-40℃～210℃），最小计量单元：1℃，“0xFE”表示异常，“0xFF”表示无效 |\n",
    "| min_temp_probe_id | 最低温度探针      | 有效值范围： 1～250，“0xFE”表示异常，“0xFF”表示无效。 |\n",
    "| sing_temp_num   | 单体电池温度探针总数 | N个温度探针，有效值范围：1～65531，“0xFF,0xFE”表示异常，“0xFF,0xFF”表示无效 |\n",
    "| cell_temp_list  | 单体电池温度值列表  | 有效值范围：0～250 （数值偏移量 40℃，表示-40℃～+210℃），最小计量单元：1℃，“0xFE”表示异常，“0xFF”表示无效 |\n",
    "| max_alarm_lvl   | 最高报警等级      | 为当前发生的故障中的最高等级值，有限制范围0~3，“0”表示无故障；“1”表示1级故障，指不影响车辆正常行驶的故障；“2”表示2级故障，指影响车辆性能，需要驾驶员限制行驶的故障；“3”表示3级故障，为最高级别故障，指驾驶员应立即停车处理或请求救援的故障。具体等级对应的故障内容由厂商自行定义。“0xFE”表示异常，“0xFF”表示无效 |\n",
    "| bat_fault_list  | 充电储能装置故障代码列表 | 扩展性数据，由厂商自行定义，可充电储能装置故障个数等于可充电储能装置故障总数N1。 |\n",
    "| isulate_r       | 绝缘阻值         | 有效范围 0～60000（表示 0KΩ ～60000KΩ），最小计量单元：1KΩ |\n",
    "| dcdc_stat       | DC-DC状态       | 0x01： 工作； 0x02： 断开，“0xFE”表示异常，“0xFF”表示无效。 |\n",
    "| sing_volt_num   | 单体电池总数      | N个电池单体，有效值范围：1～65531，“0xFF,0xFE”表示异常，“0xFF,0xFF”表示无效 |\n",
    "| alarm_info      | 通用报警标志      | 通用报警标志位定义见表2 |\n"
   ]
  },
  {
   "cell_type": "code",
   "execution_count": null,
   "metadata": {},
   "outputs": [],
   "source": [
    "#导入数据\n",
    "path = '/Users/wanghao/jupyter/data/2022_ncbdc/LB_04/part-00000-d927b640-ae1a-4cad-a86b-77d14c14c00c-c000.csv'\n",
    "num_fields = 32\n",
    "data = import_and_check_data(path, num_fields)"
   ]
  },
  {
   "cell_type": "code",
   "execution_count": null,
   "metadata": {},
   "outputs": [],
   "source": [
    "#查看字段种类\n",
    "data.info()"
   ]
  },
  {
   "cell_type": "code",
   "execution_count": null,
   "metadata": {},
   "outputs": [],
   "source": [
    "# 查看车辆属性值\n",
    "attributes = ['vid', 'mode', 'sing_temp_num', 'sing_volt_num']\n",
    "attributes_results = extract_vehicle_attributes(data, attributes)\n",
    "print(attributes_results)\n",
    "\n",
    "#删除车辆属性值\n",
    "data = drop_columns(data, attributes)"
   ]
  },
  {
   "cell_type": "markdown",
   "metadata": {},
   "source": [
    "这是一台纯电动汽车，电池由95个单体电池组成，34个温度探针"
   ]
  },
  {
   "cell_type": "code",
   "execution_count": null,
   "metadata": {},
   "outputs": [],
   "source": [
    "data = drop_duplicated(data)"
   ]
  },
  {
   "cell_type": "markdown",
   "metadata": {},
   "source": [
    "数据中的重复行有15990行"
   ]
  },
  {
   "cell_type": "markdown",
   "metadata": {},
   "source": [
    "## 时间处理"
   ]
  },
  {
   "cell_type": "code",
   "execution_count": null,
   "metadata": {},
   "outputs": [],
   "source": [
    "data = time_preprocessing(data,time_col='yr_modahrmn',format='%Y-%m-%d %H:%M:%S')"
   ]
  },
  {
   "cell_type": "markdown",
   "metadata": {},
   "source": [
    "## 逐字段分析"
   ]
  },
  {
   "cell_type": "markdown",
   "metadata": {},
   "source": [
    "### speed\n",
    "车速：有效值范围：0～2200（表示 0 km/h～220 km/h），最小计量单元：0.1km/h，“0xFF,0xFE”表示异常，“0xFF,0xFF”表示无效"
   ]
  },
  {
   "cell_type": "code",
   "execution_count": null,
   "metadata": {},
   "outputs": [],
   "source": [
    "analyze_column(data, 'speed',0, 2200 , 0.1)"
   ]
  },
  {
   "cell_type": "markdown",
   "metadata": {},
   "source": [
    "### vehicle_state\n",
    "车辆状态：0x01：车辆启动状态；0x02：熄火；0x03：其他状态；“0xFE”表示异常，“0xFF”表示无效"
   ]
  },
  {
   "cell_type": "code",
   "execution_count": null,
   "metadata": {},
   "outputs": [],
   "source": [
    "analyze_column(data, 'vehicle_state',0,3)"
   ]
  },
  {
   "cell_type": "code",
   "execution_count": null,
   "metadata": {},
   "outputs": [],
   "source": [
    "#缺失值处理\n",
    "#打印vehicle_state缺失值所在的行\n",
    "data[data['vehicle_state'].isnull()]"
   ]
  },
  {
   "cell_type": "markdown",
   "metadata": {},
   "source": [
    "分析：缺失值待处理，并非整行缺失，可以填补，标签类数据，需要检查是否准确"
   ]
  },
  {
   "cell_type": "markdown",
   "metadata": {},
   "source": [
    "### charging_status\n",
    "充电状态：0x01：停车充电；0x02：行驶充电；0x03：未充电状态；0x04：充电完成；“0xFE”表示异常，“0xFF”表示无效"
   ]
  },
  {
   "cell_type": "code",
   "execution_count": null,
   "metadata": {},
   "outputs": [],
   "source": [
    "analyze_column(data, 'charging_status',0,4)"
   ]
  },
  {
   "cell_type": "markdown",
   "metadata": {},
   "source": [
    "分析：标签类数据，需要检查是否准确"
   ]
  },
  {
   "cell_type": "markdown",
   "metadata": {},
   "source": [
    "### total_volt\t\n",
    "总电压：有效值范围： 0～10000（表示 0V～1000V），最小计量单元： 0.1V，“0xFF,0xFE”表示异常，“0xFF,0xFF”表示无效"
   ]
  },
  {
   "cell_type": "code",
   "execution_count": null,
   "metadata": {},
   "outputs": [],
   "source": [
    "analyze_column(data, 'total_volt',0, 10000 , 0.1)"
   ]
  },
  {
   "cell_type": "markdown",
   "metadata": {},
   "source": [
    "分析: 有异常值，待处理"
   ]
  },
  {
   "cell_type": "markdown",
   "metadata": {},
   "source": [
    "### total_current\n",
    "有效值范围： 0～20000（偏移量 1000A，表示-1000A～+1000A），最小计量单元： 0.1A，“0xFF,0xFE”表示异常，“0xFF,0xFF”表示无效。"
   ]
  },
  {
   "cell_type": "code",
   "execution_count": null,
   "metadata": {},
   "outputs": [],
   "source": [
    "analyze_column(data, 'total_current',-10000, 10000 , 0.1)"
   ]
  },
  {
   "cell_type": "markdown",
   "metadata": {},
   "source": [
    "### mileage\n",
    "累计里程：有效值范围：0～9999999（表示 0km～999999.9km），最小计量单元：0.1km。“0xFF, 0xFF, 0xFF,0xFE”表示异常，“0xFF,0xFF,0xFF,0xFF”表示无效"
   ]
  },
  {
   "cell_type": "code",
   "execution_count": null,
   "metadata": {},
   "outputs": [],
   "source": [
    "analyze_column(data, 'mileage',0, 9999999 , 0.1)"
   ]
  },
  {
   "cell_type": "code",
   "execution_count": null,
   "metadata": {},
   "outputs": [],
   "source": [
    "#检查mileage是否每个后面的值都大于等于前面的值\n",
    "\n",
    "def check_mileage_order(data):\n",
    "    mileage_values = data['mileage'].values\n",
    "    for i in range(1, len(mileage_values)):\n",
    "        if mileage_values[i] < mileage_values[i - 1]:\n",
    "            return False\n",
    "    return True\n",
    "\n",
    "# 使用之前导入的data数据进行检查\n",
    "if 'mileage' in data.columns:\n",
    "    is_mileage_ordered = check_mileage_order(data)\n",
    "    if is_mileage_ordered:\n",
    "        print(\"mileage字段的值是递增的或相等的。\")\n",
    "    else:\n",
    "        print(\"mileage字段的值存在不满足递增条件的情况。\")\n",
    "else:\n",
    "    print(\"数据中不存在mileage字段。\")\n"
   ]
  },
  {
   "cell_type": "markdown",
   "metadata": {},
   "source": [
    "### standard_soc\n",
    "soc:有效值范围：0～100（表示 0%～100%），最小计量单元：1%，“0xFE”表示异常，“0xFF”表示无效"
   ]
  },
  {
   "cell_type": "code",
   "execution_count": null,
   "metadata": {},
   "outputs": [],
   "source": [
    "analyze_column(data, 'standard_soc',0, 100)"
   ]
  },
  {
   "cell_type": "markdown",
   "metadata": {},
   "source": [
    "### cell_volt_list \n",
    "单体电池电压列表：有效值：0~15000，单位0.001V"
   ]
  },
  {
   "cell_type": "code",
   "execution_count": null,
   "metadata": {},
   "outputs": [],
   "source": [
    "analyze_column(data, 'cell_volt_list')"
   ]
  },
  {
   "cell_type": "code",
   "execution_count": null,
   "metadata": {},
   "outputs": [],
   "source": [
    "def check_systems(data: pd.DataFrame, column: str):\n",
    "    # 定义一个函数来检查一个字符串中\":\"的数量\n",
    "    def count_colon(s):\n",
    "        return s.count(\":\")\n",
    "    \n",
    "    # 使用apply函数检查整个列\n",
    "    data['colon_count'] = data[column].apply(count_colon)\n",
    "    \n",
    "    # 现在，colon_count列中的每个值都是一个整数，表示对应的cell_volt_list值中\":\"的数量\n",
    "    # 使用max函数来检查最大的数量\n",
    "    max_colon_count = data['colon_count'].max()\n",
    "    \n",
    "    # 如果最大数量为1，打印\"只有一个系统\"，否则打印\"有多个系统\"\n",
    "    if max_colon_count == 1:\n",
    "        print(\"只有一个系统\")\n",
    "    else:\n",
    "        print(\"有多个系统\")\n",
    "    \n",
    "    data= data.drop('colon_count', axis=1)\n",
    "    return data\n",
    "\n",
    "# 使用函数\n",
    "data = check_systems(data, 'cell_volt_list')"
   ]
  },
  {
   "cell_type": "markdown",
   "metadata": {},
   "source": [
    "分析：电池只有一个子系统"
   ]
  },
  {
   "cell_type": "code",
   "execution_count": null,
   "metadata": {},
   "outputs": [],
   "source": [
    "def process_volt_string(volt_string):\n",
    "    volt_string = volt_string.split(\":\")[1]  # 去掉前面的\"1:\"\n",
    "    volt_list = volt_string.split(\"_\")  # 分割字符串\n",
    "    volt_list = [int(volt) for volt in volt_list]  # 转换为整数列表\n",
    "    volt_list = [volt * 0.001 for volt in volt_list]  # 转换为电压值\n",
    "    return volt_list\n",
    "\n",
    "# 然后使用apply函数处理整个列\n",
    "data['cell_volt_list'] = data['cell_volt_list'].apply(process_volt_string)"
   ]
  },
  {
   "cell_type": "code",
   "execution_count": null,
   "metadata": {},
   "outputs": [],
   "source": [
    "# 计算每个列表的长度\n",
    "data['volt_list_length'] = data['cell_volt_list'].apply(len)\n",
    "\n",
    "# 检查是否所有的长度\n",
    "all_have_volt = all(data['volt_list_length'] == attributes_results[\"sing_volt_num\"])\n",
    "if all_have_volt:\n",
    "    print(\"所有记录都有\",attributes_results[\"sing_volt_num\"],\"个电压值\")\n",
    "else:\n",
    "    print(\"有记录没有\",attributes_results[\"sing_volt_num\"],\"个电压值\")\n",
    "data= data.drop('volt_list_length', axis=1)"
   ]
  },
  {
   "cell_type": "code",
   "execution_count": null,
   "metadata": {},
   "outputs": [],
   "source": [
    "def find_and_print_out_of_range_rows(data, column_name,lower_bound, upper_bound):\n",
    "    \"\"\"\n",
    "    找出包含不在范围内的数据值的行，并打印出这些行及行数。\n",
    "\n",
    "    参数:\n",
    "        data (DataFrame): 包含电压值数据的DataFrame。\n",
    "\n",
    "    返回:\n",
    "        None\n",
    "    \"\"\"\n",
    "    # 找出包含不在范围内的数据值的行\n",
    "    out_of_range_rows = data[data[column_name].apply(lambda volt_list: any(volt < lower_bound or volt > upper_bound for volt in volt_list))]\n",
    "\n",
    "    # 获取行数\n",
    "    num_rows = out_of_range_rows.shape[0]\n",
    "\n",
    "    # 打印行数\n",
    "    if num_rows == 0:\n",
    "        print(\"没有异常或无效值\")\n",
    "    else:\n",
    "        print(f\"异常或无效行数有: {num_rows} 行\")\n",
    "        # 打印出这些行\n",
    "        print(out_of_range_rows)"
   ]
  },
  {
   "cell_type": "code",
   "execution_count": null,
   "metadata": {},
   "outputs": [],
   "source": [
    "find_and_print_out_of_range_rows(data, 'cell_volt_list',0, 15)"
   ]
  },
  {
   "cell_type": "markdown",
   "metadata": {},
   "source": [
    "#### max_cell_volt:衍生特征\n",
    "电池单体电压最高值：有效值范围：0～15 000（表示 0V～15V），最小计量单元：0.001V，“0xFE，0xFE”表示异常，“0xFF ，0xFF”表示无效"
   ]
  },
  {
   "cell_type": "code",
   "execution_count": null,
   "metadata": {},
   "outputs": [],
   "source": [
    "analyze_column(data, 'max_cell_volt',0, 15000,0.001)"
   ]
  },
  {
   "cell_type": "markdown",
   "metadata": {},
   "source": [
    "#### max_volt_cell_id衍生特征\n",
    "最高电压电池：有效值范围： 1～250，“0xFE”表示异常，“0xFF”表示无效。\n"
   ]
  },
  {
   "cell_type": "code",
   "execution_count": null,
   "metadata": {},
   "outputs": [],
   "source": [
    "analyze_column(data, 'max_volt_cell_id',1, 250)"
   ]
  },
  {
   "cell_type": "markdown",
   "metadata": {},
   "source": [
    "#### min_cell_volt:衍生特征\n",
    "有效值范围：0～15 000（表示 0V～15V），最小计量单元：0.001V，“0xFF，0xFE”表示异常，“0xFF ，0xFF”表示无效"
   ]
  },
  {
   "cell_type": "code",
   "execution_count": null,
   "metadata": {},
   "outputs": [],
   "source": [
    "analyze_column(data, 'min_cell_volt',0, 15000,0.001)"
   ]
  },
  {
   "cell_type": "markdown",
   "metadata": {},
   "source": [
    "#### min_cell_volt_id衍生特征\n",
    "最低电压电池：有效值范围： 1～250，“0xFE”表示异常，“0xFF”表示无效。"
   ]
  },
  {
   "cell_type": "code",
   "execution_count": null,
   "metadata": {},
   "outputs": [],
   "source": [
    "analyze_column(data, 'min_cell_volt_id',1, 250)"
   ]
  },
  {
   "cell_type": "code",
   "execution_count": null,
   "metadata": {},
   "outputs": [],
   "source": [
    "def find_extreme_and_index(lst, mode='max'):\n",
    "    if mode == 'max':\n",
    "        value = max(lst)\n",
    "    elif mode == 'min':\n",
    "        value = min(lst)\n",
    "    else:\n",
    "        raise ValueError(\"Mode must be 'max' or 'min'\")\n",
    "    index = lst.index(value)+1\n",
    "    return value, index\n",
    "\n",
    "def check_volt_consistency(data: pd.DataFrame):\n",
    "    data['max_volt_and_index'] = data['cell_volt_list'].apply(find_extreme_and_index, mode='max')\n",
    "    data['min_volt_and_index'] = data['cell_volt_list'].apply(find_extreme_and_index, mode='min')\n",
    "    \n",
    "    data['max_cell_volt_real'] = data['max_volt_and_index'].apply(lambda x: x[0])\n",
    "    data['max_volt_cell_id_real'] = data['max_volt_and_index'].apply(lambda x: x[1])\n",
    "    \n",
    "    data['min_cell_volt_real'] = data['min_volt_and_index'].apply(lambda x: x[0])\n",
    "    data['min_cell_volt_id_real'] = data['min_volt_and_index'].apply(lambda x: x[1])\n",
    "    \n",
    "    max_volt_not_equal = (data['max_cell_volt_real'] != data['max_cell_volt'])\n",
    "    max_volt_not_equal_count = max_volt_not_equal.sum()\n",
    "    \n",
    "    min_volt_not_equal = (data['min_cell_volt_real'] != data['min_cell_volt'])\n",
    "    min_volt_not_equal_count = min_volt_not_equal.sum()\n",
    "    \n",
    "    max_id_not_equal = (data['max_volt_cell_id_real'] != data['max_volt_cell_id'])\n",
    "    max_id_not_equal_count = max_id_not_equal.sum()\n",
    "\n",
    "    min_id_not_equal = (data['min_cell_volt_id_real'] != data['min_cell_volt_id'])\n",
    "    min_id_not_equal_count = min_id_not_equal.sum()\n",
    "\n",
    "    if max_volt_not_equal_count > 0 or max_id_not_equal_count > 0 or min_volt_not_equal_count > 0 or min_id_not_equal_count > 0:\n",
    "        print(f\"警告：存在不相等的情况。\")\n",
    "        print(f\"不相等的最大电压值数量：{max_volt_not_equal_count}\")\n",
    "        print(f\"不相等的最小电压值数量：{min_volt_not_equal_count}\")\n",
    "        print(f\"不相等的最大电压单元ID数量：{max_id_not_equal_count}\")\n",
    "        print(f\"不相等的最小电压单元ID数量：{min_id_not_equal_count}\")\n",
    "        return data\n",
    "    else:\n",
    "        print(\"单体电压数据一致性检查完毕，数据一致！\")\n",
    "        # 删除这个函数里新创造的这些列\n",
    "        data = data.drop(['max_volt_and_index', 'max_cell_volt_real', 'max_volt_cell_id_real', 'min_volt_and_index', 'min_cell_volt_real', 'min_cell_volt_id_real'], axis=1)\n",
    "        return data\n"
   ]
  },
  {
   "cell_type": "code",
   "execution_count": null,
   "metadata": {},
   "outputs": [],
   "source": [
    "data = check_volt_consistency(data)"
   ]
  },
  {
   "cell_type": "markdown",
   "metadata": {},
   "source": [
    "### cell_temp_list\n",
    "单体电池温度值列表:有效值范围：0～250 （数值偏移量 40℃，表示-40℃～+210℃），最小计量单元：1℃，“0xFE”表示异常，“0xFF”表示无效"
   ]
  },
  {
   "cell_type": "code",
   "execution_count": null,
   "metadata": {},
   "outputs": [],
   "source": [
    "analyze_column(data, 'cell_temp_list')"
   ]
  },
  {
   "cell_type": "code",
   "execution_count": null,
   "metadata": {},
   "outputs": [],
   "source": [
    "def process_temp_string(temp_string):\n",
    "    temp_list = temp_string.split(\"_\")  # 分割字符串\n",
    "    temp_list = [int(temp) for temp in temp_list]  # 转换为整数列表\n",
    "    return temp_list\n",
    "\n",
    "# 然后使用apply函数处理整个列\n",
    "data['cell_temp_list'] = data['cell_temp_list'].apply(process_temp_string)"
   ]
  },
  {
   "cell_type": "code",
   "execution_count": null,
   "metadata": {},
   "outputs": [],
   "source": [
    "# 计算每个列表的长度\n",
    "data['temp_list_length'] = data['cell_temp_list'].apply(len)\n",
    "\n",
    "# 检查是否所有的长度\n",
    "all_have_temp = all(data['temp_list_length'] == attributes_results[\"sing_temp_num\"])\n",
    "if all_have_temp:\n",
    "    print(\"所有记录都有\",attributes_results[\"sing_temp_num\"],\"个温度值\")\n",
    "else:\n",
    "    print(\"有记录没有\",attributes_results[\"sing_temp_num\"],\"个温度值\")\n",
    "data= data.drop('temp_list_length', axis=1)"
   ]
  },
  {
   "cell_type": "code",
   "execution_count": null,
   "metadata": {},
   "outputs": [],
   "source": [
    "find_and_print_out_of_range_rows(data, 'cell_temp_list',0, 250)"
   ]
  },
  {
   "cell_type": "markdown",
   "metadata": {},
   "source": [
    "分析：总共有10行异常数据,等待排查"
   ]
  },
  {
   "cell_type": "markdown",
   "metadata": {},
   "source": [
    "#### max_temp：衍生特征\n",
    "最高温度值 有效值范围：0～250（数值偏移量40℃，表示-40℃～210℃），最小计量单元：1℃，“0xFE”表示异常，“0xFF”表示无效"
   ]
  },
  {
   "cell_type": "code",
   "execution_count": null,
   "metadata": {},
   "outputs": [],
   "source": [
    "analyze_column(data, 'max_temp',-40, 210)"
   ]
  },
  {
   "cell_type": "code",
   "execution_count": null,
   "metadata": {},
   "outputs": [],
   "source": [
    "#打印max_temp缺失值所在的行\n",
    "data[data['max_temp'].isnull()]"
   ]
  },
  {
   "cell_type": "markdown",
   "metadata": {},
   "source": [
    "分析：有两个异常值，还有一个0值，待排查"
   ]
  },
  {
   "cell_type": "markdown",
   "metadata": {},
   "source": [
    "#### max_temp_probe_id：衍生特征\n",
    "最高温度探针\n",
    "有效值范围： 1～250，“0xFE”表示异常，“0xFF”表示无效。"
   ]
  },
  {
   "cell_type": "code",
   "execution_count": null,
   "metadata": {},
   "outputs": [],
   "source": [
    "analyze_column(data, 'max_temp_probe_id',1, 250)"
   ]
  },
  {
   "cell_type": "markdown",
   "metadata": {},
   "source": [
    "#### min_temp  ：衍生特征\n",
    "最低温度值\n",
    "有效值范围：0～250（数值偏移量40℃，表示-40℃～210℃），最小计量单元：1℃，“0xFE”表示异常，“0xFF”表示无效"
   ]
  },
  {
   "cell_type": "code",
   "execution_count": null,
   "metadata": {},
   "outputs": [],
   "source": [
    "analyze_column(data, 'min_temp',-40, 210)"
   ]
  },
  {
   "cell_type": "markdown",
   "metadata": {},
   "source": [
    "分析：图像上有明显的很多异常值"
   ]
  },
  {
   "cell_type": "markdown",
   "metadata": {},
   "source": [
    "#### min_temp_probe_id：衍生特征\n",
    "有效值范围： 1～250，“0xFE”表示异常，“0xFF”表示无效。"
   ]
  },
  {
   "cell_type": "code",
   "execution_count": null,
   "metadata": {},
   "outputs": [],
   "source": [
    "analyze_column(data, 'min_temp_probe_id',1, 250)"
   ]
  },
  {
   "cell_type": "code",
   "execution_count": null,
   "metadata": {},
   "outputs": [],
   "source": [
    "def check_temp_consistency(data: pd.DataFrame):\n",
    "    data['max_temp_and_index'] = data['cell_temp_list'].apply(find_extreme_and_index, mode='max')\n",
    "    data['min_temp_and_index'] = data['cell_temp_list'].apply(find_extreme_and_index, mode='min')\n",
    "    \n",
    "    data['max_temp_real'] = data['max_temp_and_index'].apply(lambda x: x[0])\n",
    "    data['max_temp_probe_id_real'] = data['max_temp_and_index'].apply(lambda x: x[1])\n",
    "    \n",
    "    data['min_temp_real'] = data['min_temp_and_index'].apply(lambda x: x[0])\n",
    "    data['min_temp_probe_id_real'] = data['min_temp_and_index'].apply(lambda x: x[1])\n",
    "    \n",
    "    max_temp_not_equal = (data['max_temp_real'] -40 != data['max_temp'])\n",
    "    max_temp_not_equal_count = max_temp_not_equal.sum()\n",
    "    \n",
    "    min_temp_not_equal = (data['min_temp_real'] -40 != data['min_temp'])\n",
    "    min_temp_not_equal_count = min_temp_not_equal.sum()\n",
    "    \n",
    "    max_id_not_equal = (data['max_temp_probe_id_real'] != data['max_temp_probe_id'])\n",
    "    max_id_not_equal_count = max_id_not_equal.sum()\n",
    "\n",
    "    min_id_not_equal = (data['min_temp_probe_id_real'] != data['min_temp_probe_id'])\n",
    "    min_id_not_equal_count = min_id_not_equal.sum()\n",
    "\n",
    "    if max_temp_not_equal_count > 0 or max_id_not_equal_count > 0 or min_temp_not_equal_count > 0 or min_id_not_equal_count > 0:\n",
    "        print(f\"警告：存在不相等的情况。\")\n",
    "        print(f\"不相等的最大温度值数量：{max_temp_not_equal_count}\")\n",
    "        print(f\"不相等的最小温度值数量：{min_temp_not_equal_count}\")\n",
    "        print(f\"不相等的最高温度探针ID数量：{max_id_not_equal_count}\")\n",
    "        print(f\"不相等的最低温度探针ID数量：{min_id_not_equal_count}\")\n",
    "        return data\n",
    "    else:\n",
    "        print(\"单体温度数据一致性检查完毕，数据一致！\")\n",
    "        # 删除这个函数里新创造的这些列\n",
    "        data = data.drop(['max_temp_and_index', 'max_temp_real', 'max_temp_probe_id_real', 'min_temp_and_index', 'min_temp_real', 'min_temp_probe_id_real'], axis=1)\n",
    "        return data\n"
   ]
  },
  {
   "cell_type": "code",
   "execution_count": null,
   "metadata": {},
   "outputs": [],
   "source": [
    "data = check_temp_consistency(data)"
   ]
  },
  {
   "cell_type": "markdown",
   "metadata": {},
   "source": [
    "分析：温度与探针数据有不一致，待排查！"
   ]
  },
  {
   "cell_type": "markdown",
   "metadata": {},
   "source": [
    "### max_alarm_lvl\n",
    "最高报警等级\n",
    "为当前发生的故障中的最高等级值，有限制范围0~3，“0”表示无故障；“1”表示1级故障，指不影响车辆正常行驶的故障；“2”表示2级故障，指影响车辆性能，需要驾驶员限制行驶的故障；“3”表示3级故障，为最高级别故障，指驾驶员应立即停车处理或请求救援的故障。具体等级对应的故障内容由厂商自行定义。“0xFE”表示异常，“0xFF”表示无效"
   ]
  },
  {
   "cell_type": "code",
   "execution_count": null,
   "metadata": {},
   "outputs": [],
   "source": [
    "analyze_column(data, 'max_alarm_lvl',0,3)"
   ]
  },
  {
   "cell_type": "markdown",
   "metadata": {},
   "source": [
    "### bat_fault_list \n",
    "充电储能装置故障代码列表\n",
    "扩展性数据，由厂商自行定义， 可充电储能装置故障个数等于可充电储能装置故障总数 N1。"
   ]
  },
  {
   "cell_type": "code",
   "execution_count": null,
   "metadata": {},
   "outputs": [],
   "source": [
    "analyze_column(data, 'bat_fault_list')"
   ]
  },
  {
   "cell_type": "markdown",
   "metadata": {},
   "source": [
    "分析：完全缺失"
   ]
  },
  {
   "cell_type": "markdown",
   "metadata": {},
   "source": [
    "### isulate_r\n",
    "绝缘阻值\n",
    "有效范围 0～60000（表示 0KΩ ～60000KΩ），最小计量单元： 1KΩ  "
   ]
  },
  {
   "cell_type": "code",
   "execution_count": null,
   "metadata": {},
   "outputs": [],
   "source": [
    "analyze_column(data, 'isulate_r', 0, 60000)"
   ]
  },
  {
   "cell_type": "markdown",
   "metadata": {},
   "source": [
    "分析：存在异常值！可能很关键？"
   ]
  },
  {
   "cell_type": "markdown",
   "metadata": {},
   "source": [
    "### dcdc_stat\n",
    "DC-DC状态\n",
    "0x01： 工作； 0x02： 断开，“0xFE”表示异常，“0xFF”表示无效。"
   ]
  },
  {
   "cell_type": "code",
   "execution_count": null,
   "metadata": {},
   "outputs": [],
   "source": [
    "analyze_column(data, 'dcdc_stat',0,2)"
   ]
  },
  {
   "cell_type": "markdown",
   "metadata": {},
   "source": [
    "### gear\n",
    "挡位 "
   ]
  },
  {
   "cell_type": "code",
   "execution_count": null,
   "metadata": {},
   "outputs": [],
   "source": [
    "analyze_column(data, 'gear',0,1)"
   ]
  },
  {
   "cell_type": "code",
   "execution_count": null,
   "metadata": {},
   "outputs": [],
   "source": [
    "def parse_gear(gear):\n",
    "    bit5 = (gear & 0b00100000) >> 5\n",
    "    bit4 = (gear & 0b00010000) >> 4\n",
    "    bits3210 = gear & 0b00001111\n",
    "\n",
    "    gear_dict = {\n",
    "        0b0000: 0,\n",
    "        0b0001: 1,\n",
    "        0b0010: 2,\n",
    "        0b0011: 3,\n",
    "        0b0100: 4,\n",
    "        0b0101: 5,\n",
    "        0b0110: 6,\n",
    "        0b1101: 7,\n",
    "        0b1110: 8,\n",
    "        0b1111: 9,\n",
    "    }\n",
    "    gear_value = gear_dict.get(bits3210, np.nan)  # 如果为未知挡位，输出null\n",
    "    return bit5, bit4, gear_value\n"
   ]
  },
  {
   "cell_type": "code",
   "execution_count": null,
   "metadata": {},
   "outputs": [],
   "source": [
    "#档位处理成3列\n",
    "data['驱动力'], data['制动力'], data['挡位'] = zip(*data['gear'].apply(parse_gear))"
   ]
  },
  {
   "cell_type": "code",
   "execution_count": null,
   "metadata": {},
   "outputs": [],
   "source": [
    "analyze_column(data, '驱动力',0,1)"
   ]
  },
  {
   "cell_type": "code",
   "execution_count": null,
   "metadata": {},
   "outputs": [],
   "source": [
    "analyze_column(data, '制动力',0,1)"
   ]
  },
  {
   "cell_type": "code",
   "execution_count": null,
   "metadata": {},
   "outputs": [],
   "source": [
    "analyze_column(data, '挡位')"
   ]
  },
  {
   "cell_type": "markdown",
   "metadata": {},
   "source": [
    "分析：这是一台自动档的车，或许可以考虑档位与车速的关系？辅助后续筛查"
   ]
  },
  {
   "cell_type": "markdown",
   "metadata": {},
   "source": [
    "### "
   ]
  },
  {
   "cell_type": "markdown",
   "metadata": {},
   "source": [
    "### 子系统分析：可以忽略"
   ]
  },
  {
   "cell_type": "markdown",
   "metadata": {},
   "source": [
    "#### max_volt_num\n",
    "最高电压电池子系统号\n",
    "有效值范围：1～250，“0xFE”表示异常，“0xFF”表示无效"
   ]
  },
  {
   "cell_type": "code",
   "execution_count": null,
   "metadata": {},
   "outputs": [],
   "source": [
    "analyze_column(data, 'max_volt_num',1,250)"
   ]
  },
  {
   "cell_type": "markdown",
   "metadata": {},
   "source": [
    "#### min_volt_num\n",
    "最低电压电池子系统号\n",
    "有效值范围：1～250，“0xFE”表示异常，“0xFF”表示无效"
   ]
  },
  {
   "cell_type": "code",
   "execution_count": null,
   "metadata": {},
   "outputs": [],
   "source": [
    "analyze_column(data, 'min_volt_num',1,250)"
   ]
  },
  {
   "cell_type": "markdown",
   "metadata": {},
   "source": [
    "#### max_temp_num\n",
    "最高温度子系统号\n",
    "有效值范围：1～250，“0xFE”表示异常，“0xFF”表示无效"
   ]
  },
  {
   "cell_type": "code",
   "execution_count": null,
   "metadata": {},
   "outputs": [],
   "source": [
    "analyze_column(data, 'max_temp_num',1,250)"
   ]
  },
  {
   "cell_type": "markdown",
   "metadata": {},
   "source": [
    "#### min_temp_num\n",
    "最低温度子系统号\n",
    "有效值范围：1～250，“0xFE”表示异常，“0xFF”表示无效"
   ]
  },
  {
   "cell_type": "code",
   "execution_count": null,
   "metadata": {},
   "outputs": [],
   "source": [
    "analyze_column(data, 'min_temp_num',1,250)"
   ]
  },
  {
   "cell_type": "markdown",
   "metadata": {},
   "source": [
    "分析：都只有一个子系统，所以不需要进行分析"
   ]
  },
  {
   "cell_type": "markdown",
   "metadata": {},
   "source": [
    "### alarm_info\n",
    "通用报警标志"
   ]
  },
  {
   "cell_type": "code",
   "execution_count": null,
   "metadata": {},
   "outputs": [],
   "source": [
    "analyze_column(data, 'alarm_info')"
   ]
  },
  {
   "cell_type": "markdown",
   "metadata": {},
   "source": [
    "报警位说明\n",
    "| 位 | 定义 | 处理说明 |\n",
    "|---|---|---|\n",
    "| 0 | 1：温度差异报警；0：正常 | 标志维持到报警条件解除 |\n",
    "| 1 | 1：电池高温报警；0：正常 | 标志维持到报警条件解除 |\n",
    "| 2 | 1：车载储能装置类型过压报警；0：正常 | 标志维持到报警条件解除 |\n",
    "| 3 | 1：车载储能装置类型欠压报警；0：正常 | 标志维持到报警条件解除 |\n",
    "| 4 | 1：SOC低报警；0：正常 | 标志维持到报警条件解除 |\n",
    "| 5 | 1：单体电池过压报警；0：正常 | 标志维持到报警条件解除 |\n",
    "| 6 | 1：单体电池欠压报警；0：正常 | 标志维持到报警条件解除 |\n",
    "| 7 | 1：SOC过高报警；0：正常 | 标志维持到报警条件解除 |\n",
    "| 8 | 1：SOC跳变报警；0：正常 | 标志维持到报警条件解除 |\n",
    "| 9 | 1：可充电储能系统不匹配报警；0：正常 | 标志维持到报警条件解除 |\n",
    "| 10 | 1：电池单体一致性差报警；0：正常 | 标志维持到报警条件解除 |\n",
    "| 11 | 1：绝缘报警；0：正常 | 标志维持到报警条件解除 |\n",
    "| 12 | 1：DC-DC温度报警；0：正常 | 标志维持到报警条件解除 |\n",
    "| 13 | 1：制动系统报警；0：正常 | 标志维持到报警条件解除 |\n",
    "| 14 | 1：DC-DC状态报警；0：正常 | 标志维持到报警条件解除 |\n",
    "| 15 | 1：驱动电机控制器温度报警；0：正常 | 标志维持到报警条件解除 |\n",
    "| 16 | 1：高压互锁状态报警；0：正常 | 标志维持到报警条件解除 |\n",
    "| 17 | 1：驱动电机温度报警；0：正常 | 标志维持到报警条件解除 |\n",
    "| 18 | 1：车载储能装置类型过充；0：正常 | 标志维持到报警条件解除 |\n",
    "| 19~31 | 预留 | 标志维持到报警条件解除 |\n"
   ]
  },
  {
   "cell_type": "markdown",
   "metadata": {},
   "source": [
    "分析：该车出现了 DC_DC状态的报警，需要和前面的max_alarm_lvl进行一致性判断"
   ]
  }
 ],
 "metadata": {
  "kernelspec": {
   "display_name": "yy",
   "language": "python",
   "name": "python3"
  },
  "language_info": {
   "codemirror_mode": {
    "name": "ipython",
    "version": 3
   },
   "file_extension": ".py",
   "mimetype": "text/x-python",
   "name": "python",
   "nbconvert_exporter": "python",
   "pygments_lexer": "ipython3",
   "version": "3.9.17"
  },
  "orig_nbformat": 4
 },
 "nbformat": 4,
 "nbformat_minor": 2
}
